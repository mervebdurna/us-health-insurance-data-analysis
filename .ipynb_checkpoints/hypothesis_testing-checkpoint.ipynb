{
 "cells": [
  {
   "cell_type": "markdown",
   "metadata": {},
   "source": [
    "# Import Libraries"
   ]
  },
  {
   "cell_type": "code",
   "execution_count": 2,
   "metadata": {
    "collapsed": true
   },
   "outputs": [
    {
     "name": "stderr",
     "output_type": "stream",
     "text": [
      "C:\\ProgramData\\Anaconda3\\lib\\importlib\\_bootstrap.py:219: RuntimeWarning: numpy.ufunc size changed, may indicate binary incompatibility. Expected 192 from C header, got 216 from PyObject\n",
      "  return f(*args, **kwds)\n",
      "C:\\ProgramData\\Anaconda3\\lib\\importlib\\_bootstrap.py:219: RuntimeWarning: numpy.ufunc size changed, may indicate binary incompatibility. Expected 192 from C header, got 216 from PyObject\n",
      "  return f(*args, **kwds)\n",
      "C:\\ProgramData\\Anaconda3\\lib\\importlib\\_bootstrap.py:219: RuntimeWarning: numpy.ufunc size changed, may indicate binary incompatibility. Expected 192 from C header, got 216 from PyObject\n",
      "  return f(*args, **kwds)\n"
     ]
    }
   ],
   "source": [
    "import pandas as pd \n",
    "import numpy as np\n",
    "import matplotlib.pyplot as plt\n",
    "import seaborn as sns"
   ]
  },
  {
   "cell_type": "code",
   "execution_count": 7,
   "metadata": {
    "collapsed": true
   },
   "outputs": [
    {
     "data": {
      "text/html": [
       "<div>\n",
       "<style scoped>\n",
       "    .dataframe tbody tr th:only-of-type {\n",
       "        vertical-align: middle;\n",
       "    }\n",
       "\n",
       "    .dataframe tbody tr th {\n",
       "        vertical-align: top;\n",
       "    }\n",
       "\n",
       "    .dataframe thead th {\n",
       "        text-align: right;\n",
       "    }\n",
       "</style>\n",
       "<table border=\"1\" class=\"dataframe\">\n",
       "  <thead>\n",
       "    <tr style=\"text-align: right;\">\n",
       "      <th></th>\n",
       "      <th>age</th>\n",
       "      <th>sex</th>\n",
       "      <th>bmi</th>\n",
       "      <th>children</th>\n",
       "      <th>smoker</th>\n",
       "      <th>region</th>\n",
       "      <th>charges</th>\n",
       "    </tr>\n",
       "  </thead>\n",
       "  <tbody>\n",
       "    <tr>\n",
       "      <th>0</th>\n",
       "      <td>19</td>\n",
       "      <td>female</td>\n",
       "      <td>27.900</td>\n",
       "      <td>0</td>\n",
       "      <td>yes</td>\n",
       "      <td>southwest</td>\n",
       "      <td>16884.92400</td>\n",
       "    </tr>\n",
       "    <tr>\n",
       "      <th>1</th>\n",
       "      <td>18</td>\n",
       "      <td>male</td>\n",
       "      <td>33.770</td>\n",
       "      <td>1</td>\n",
       "      <td>no</td>\n",
       "      <td>southeast</td>\n",
       "      <td>1725.55230</td>\n",
       "    </tr>\n",
       "    <tr>\n",
       "      <th>2</th>\n",
       "      <td>28</td>\n",
       "      <td>male</td>\n",
       "      <td>33.000</td>\n",
       "      <td>3</td>\n",
       "      <td>no</td>\n",
       "      <td>southeast</td>\n",
       "      <td>4449.46200</td>\n",
       "    </tr>\n",
       "    <tr>\n",
       "      <th>3</th>\n",
       "      <td>33</td>\n",
       "      <td>male</td>\n",
       "      <td>22.705</td>\n",
       "      <td>0</td>\n",
       "      <td>no</td>\n",
       "      <td>northwest</td>\n",
       "      <td>21984.47061</td>\n",
       "    </tr>\n",
       "    <tr>\n",
       "      <th>4</th>\n",
       "      <td>32</td>\n",
       "      <td>male</td>\n",
       "      <td>28.880</td>\n",
       "      <td>0</td>\n",
       "      <td>no</td>\n",
       "      <td>northwest</td>\n",
       "      <td>3866.85520</td>\n",
       "    </tr>\n",
       "  </tbody>\n",
       "</table>\n",
       "</div>"
      ],
      "text/plain": [
       "   age     sex     bmi  children smoker     region      charges\n",
       "0   19  female  27.900         0    yes  southwest  16884.92400\n",
       "1   18    male  33.770         1     no  southeast   1725.55230\n",
       "2   28    male  33.000         3     no  southeast   4449.46200\n",
       "3   33    male  22.705         0     no  northwest  21984.47061\n",
       "4   32    male  28.880         0     no  northwest   3866.85520"
      ]
     },
     "execution_count": 7,
     "metadata": {},
     "output_type": "execute_result"
    }
   ],
   "source": [
    "df = pd.read_csv('data/insurance.csv')\n",
    "df.head()"
   ]
  },
  {
   "cell_type": "markdown",
   "metadata": {},
   "source": [
    "## Are medical claims made by smokers greater than those who don't smoke ?"
   ]
  },
  {
   "cell_type": "code",
   "execution_count": 35,
   "metadata": {},
   "outputs": [],
   "source": [
    "# get cahrges of smoker claimant\n",
    "smoker_charges = df[df['smoker']=='yes']['charges']\n",
    "smoker_charges.reset_index(drop=True, inplace=True)\n",
    "\n",
    "# get cahrges of non-smoker claimant\n",
    "non_smoker_charges = df[df['smoker']=='no']['charges']\n",
    "non_smoker_charges.reset_index(drop=True, inplace=True)"
   ]
  },
  {
   "cell_type": "code",
   "execution_count": 36,
   "metadata": {
    "scrolled": true
   },
   "outputs": [
    {
     "data": {
      "text/plain": [
       "Text(0.5, 1.0, 'Distribution of Smoker Claimants Charges')"
      ]
     },
     "execution_count": 36,
     "metadata": {},
     "output_type": "execute_result"
    },
    {
     "name": "stderr",
     "output_type": "stream",
     "text": [
      "C:\\Users\\merve\\AppData\\Roaming\\Python\\Python37\\site-packages\\seaborn\\distributions.py:2551: FutureWarning: `distplot` is a deprecated function and will be removed in a future version. Please adapt your code to use either `displot` (a figure-level function with similar flexibility) or `histplot` (an axes-level function for histograms).\n",
      "  warnings.warn(msg, FutureWarning)\n"
     ]
    },
    {
     "data": {
      "text/plain": [
       "<matplotlib.axes._subplots.AxesSubplot at 0x25515244a08>"
      ]
     },
     "execution_count": 36,
     "metadata": {},
     "output_type": "execute_result"
    },
    {
     "data": {
      "image/png": "[encoded data removed]",
      "text/plain": [
       "<Figure size 432x288 with 1 Axes>"
      ]
     },
     "metadata": {
      "needs_background": "light"
     },
     "output_type": "display_data"
    }
   ],
   "source": [
    "plt.title('Distribution of Smoker Claimants Charges')\n",
    "sns.distplot(smoker_charges)\n",
    "plt.show()"
   ]
  },
  {
   "cell_type": "code",
   "execution_count": 37,
   "metadata": {},
   "outputs": [
    {
     "data": {
      "text/plain": [
       "Text(0.5, 1.0, 'Distribution of Non-Smoker Claimants Charges')"
      ]
     },
     "execution_count": 37,
     "metadata": {},
     "output_type": "execute_result"
    },
    {
     "name": "stderr",
     "output_type": "stream",
     "text": [
      "C:\\Users\\merve\\AppData\\Roaming\\Python\\Python37\\site-packages\\seaborn\\distributions.py:2551: FutureWarning: `distplot` is a deprecated function and will be removed in a future version. Please adapt your code to use either `displot` (a figure-level function with similar flexibility) or `histplot` (an axes-level function for histograms).\n",
      "  warnings.warn(msg, FutureWarning)\n"
     ]
    },
    {
     "data": {
      "text/plain": [
       "<matplotlib.axes._subplots.AxesSubplot at 0x2551527d688>"
      ]
     },
     "execution_count": 37,
     "metadata": {},
     "output_type": "execute_result"
    },
    {
     "data": {
      "image/png": "[encoded data removed]",
      "text/plain": [
       "<Figure size 432x288 with 1 Axes>"
      ]
     },
     "metadata": {
      "needs_background": "light"
     },
     "output_type": "display_data"
    }
   ],
   "source": [
    "plt.title('Distribution of Non-Smoker Claimants Charges')\n",
    "sns.distplot(non_smoker_charges)\n",
    "plt.show()"
   ]
  },
  {
   "cell_type": "markdown",
   "metadata": {},
   "source": [
    "### 1.State the null hypothesis and alternative hypothesis\n",
    "H0 :  μs  <= μns\n",
    "HA :  μs  >  μns\n",
    "\n",
    "alpha(α) = 0.05\n",
    "\n",
    "confidence_level = %95 (1-α)\n",
    " \n",
    "μs --> mean of the charge for smoker claimant in the dataset.\n",
    "\n",
    "μns --> mean of the charge for non-smoker claimant in the dataset."
   ]
  },
  {
   "cell_type": "markdown",
   "metadata": {},
   "source": [
    "### 2. Decide the type of hypothesis testing"
   ]
  },
  {
   "cell_type": "markdown",
   "metadata": {},
   "source": [
    "As there are 2 independent group and as we would like to compare mean of those 2 groups we will going to use use \n",
    "**two-sample t test**.\n",
    "\n",
    "To decide whether to use parametric or non-parametric tests, let's examine whether the assumptions of the two-sample t-test are met."
   ]
  },
  {
   "cell_type": "markdown",
   "metadata": {},
   "source": [
    "**Assumptions Of Two Sample T Test :**\n",
    "    * Continious data\n",
    "    * Samples data are independent\n",
    "    * The data follows the normal(Gaussion) distribution\n",
    "    * Samples variance equality \n",
    "    \n",
    "It is obvious that the first two assumptions are met. However, it needs to be clarified whether the assumptions of normality and equality of variance are met.\n",
    "\n",
    "To do that we will perform **'Shapiro-Wilks Test'** for normality and **'Levene's test'** for variance equality.\n",
    "\n",
    "We will explain these two tests in detail here and will use them as references for the next sections. Let's start with Shapiro-Wilks test:"
   ]
  },
  {
   "cell_type": "markdown",
   "metadata": {},
   "source": [
    "**Shapiro-Wilks test for normality**\n",
    "\n",
    "H0: The data is normally distributed\n",
    "\n",
    "Ha: The data is not normally distributed\n",
    "\n",
    "α  = 0.01"
   ]
  },
  {
   "cell_type": "code",
   "execution_count": 71,
   "metadata": {},
   "outputs": [],
   "source": [
    "alpha = 0.01\n",
    "stat_smoker, p_val_smoker = stats.shapiro(smoker_charges)\n",
    "stat_non_smoker, p_val_non_smoker = stats.shapiro(non_smoker_charges)"
   ]
  },
  {
   "cell_type": "code",
   "execution_count": 72,
   "metadata": {},
   "outputs": [
    {
     "name": "stdout",
     "output_type": "stream",
     "text": [
      "Summary Of Shapiro-Wilks Normality Test \n",
      "\n",
      "Charges For Smokers\n",
      "p_value : 0.0000\n",
      "statistics : 0.9396\n",
      "Reject Null Hypothesis: the data is not normally distributed. \n",
      "p-value: 0.0000\n",
      "\n",
      "Charges For Non-Smokers\n",
      "p_value : 0.8729\n",
      "statistics : 0.8729\n",
      "Reject Null Hypothesis: the data is not normally distributed. \n",
      "p-value: 0.0000\n"
     ]
    }
   ],
   "source": [
    "print('Summary Of Shapiro-Wilks Normality Test \\n')\n",
    "\n",
    "print('Charges For Smokers')\n",
    "print('p_value : %.4f' %p_val_smoker)\n",
    "print('statistics : %.4f' %stat_smoker)\n",
    "if p_val_smoker < alpha :\n",
    "    print('Reject Null Hypothesis: the data is not normally distributed. \\np-value: %.4f' % p_val_smoker)\n",
    "else:\n",
    "    print('Fail to Reject Null Hypothesis: the data normally distributed. \\np-value: %.4f' % p_val_smoker)\n",
    "\n",
    "\n",
    "print('\\nCharges For Non-Smokers')\n",
    "print('p_value : %.4f' %stat_non_smoker)\n",
    "print('statistics : %.4f' %stat_non_smoker)\n",
    "if p_val_non_smoker < alpha :\n",
    "    print('Reject Null Hypothesis: the data is not normally distributed. \\np-value: %.4f' % p_val_non_smoker)\n",
    "else:\n",
    "    print('Fail to Reject Null Hypothesis: the data normally distributed. \\np-value: %.4f' % p_val_non_smoker)\n",
    "\n"
   ]
  },
  {
   "cell_type": "markdown",
   "metadata": {},
   "source": [
    "**Levene's Test for variance equality'**\n",
    "\n",
    "Levene's Test for Equality of Variance\n",
    "\n",
    "H0: The variances are equal across all samples.\n",
    "Ha: The variances are not equal for at least one pair.\n",
    "\n",
    "α  = 0.05"
   ]
  },
  {
   "cell_type": "markdown",
   "metadata": {},
   "source": [
    "Levene's Test for Equality of Variance\n",
    "\n",
    "H0: The variances are equal across all samples.\n",
    "Ha: The variances are not equal for at least one pair.\n",
    "\n",
    "α  = 0.05\n",
    "\n",
    "!! use Levene's test for equality of variace because the data departs from normality, otherwise, we would have used Bartlett's test"
   ]
  },
  {
   "cell_type": "code",
   "execution_count": 73,
   "metadata": {},
   "outputs": [
    {
     "name": "stdout",
     "output_type": "stream",
     "text": [
      "Reject Null Hypothesis: the variances are not equal for at least one pair.\n",
      "p-value: 0.00000000\n"
     ]
    }
   ],
   "source": [
    "alpha = 0.05\n",
    "stat, p_val = stats.levene(smoker_charges, non_smoker_charges, center='mean')\n",
    "if p_val < alpha:\n",
    "    print('Reject Null Hypothesis: the variances are not equal for at least one pair.\\np-value: %.8f' % p_val)\n",
    "else:\n",
    "    print('Fail to Reject Null Hypothesis: the variances are equal across all samples.\\np-value: %.8f' % p_val)"
   ]
  },
  {
   "cell_type": "markdown",
   "metadata": {},
   "source": [
    " It has been found that the sample data violates the assumption of equality of variance. Non-Parametric 2 sample test must be performed instead of a two-sample t-test. That's why we will perform **Welch's t-test**."
   ]
  },
  {
   "cell_type": "markdown",
   "metadata": {},
   "source": [
    "**Two Sample, Welch's T Test**"
   ]
  },
  {
   "cell_type": "code",
   "execution_count": 74,
   "metadata": {},
   "outputs": [
    {
     "name": "stdout",
     "output_type": "stream",
     "text": [
      "Reject Null Hypothesis: claims by smokers are statistically greater than claims by non-smokers.\n",
      "p-value: 0.0000\n"
     ]
    }
   ],
   "source": [
    "alpha = 0.05\n",
    "statistic, p_val = stats.ttest_ind(smoker_charges, non_smoker_charges, equal_var = False)\n",
    "\n",
    "if p_val < alpha:\n",
    "    print('Reject Null Hypothesis: claims by smokers are statistically greater than claims by non-smokers.\\np-value: %.4f' % p_val)\n",
    "else:\n",
    "    print('Fail to Reject Null Hypothesis: claims by smokers are either statistically equal to or less than claims by non-smokers.\\np-value: %.4f' % p_val)"
   ]
  },
  {
   "cell_type": "code",
   "execution_count": null,
   "metadata": {},
   "outputs": [],
   "source": []
  },
  {
   "cell_type": "code",
   "execution_count": null,
   "metadata": {},
   "outputs": [],
   "source": []
  },
  {
   "cell_type": "code",
   "execution_count": null,
   "metadata": {},
   "outputs": [],
   "source": []
  },
  {
   "cell_type": "code",
   "execution_count": null,
   "metadata": {},
   "outputs": [],
   "source": []
  }
 ],
 "metadata": {
  "kernelspec": {
   "display_name": "Python 3",
   "language": "python",
   "name": "python3"
  },
  "language_info": {
   "codemirror_mode": {
    "name": "ipython",
    "version": 3
   },
   "file_extension": ".py",
   "mimetype": "text/x-python",
   "name": "python",
   "nbconvert_exporter": "python",
   "pygments_lexer": "ipython3",
   "version": "3.7.6"
  }
 },
 "nbformat": 4,
 "nbformat_minor": 4
}
