{
 "cells": [
  {
   "cell_type": "markdown",
   "metadata": {},
   "source": [
    "# Hypothesis Testing"
   ]
  },
  {
   "cell_type": "markdown",
   "metadata": {},
   "source": [
    "In this notebook; A few hypothesis testing will be performed to check the findings observed in the EDA notebook are statistically significant or not.\n",
    "\n",
    "**Objectives to be tested**\n",
    "\n",
    "* Are medical claims made by smokers greater than those who don't smoke ?\n",
    "* Is the BMI of females lower than the BMI of males?\n",
    "* Is the proportion of smokers significantly different in different genders?\n",
    "* Is the distribution of BMI in across different regions are the same? "
   ]
  },
  {
   "cell_type": "markdown",
   "metadata": {},
   "source": [
    "Hypothesis testing will be performed by following the steps below, respectively.\n",
    "\n",
    "**1.** State the null hypothesis and alternative hypothesis\n",
    "\n",
    "**2.** Decide the type of hypothesis testing\n",
    "\n",
    "**3.**  Check the assumptions\n",
    "\n",
    "**4.**  Perform hyptohesis testing \n",
    "\n",
    "**5.** Interpret results\n",
    "\n",
    "**Notes :**\n",
    "\n",
    "* Whether the assumptions are met will be checked by visualization techniques or hypothesis testing. If not met, the appropriate non-parametric tests will be used.\n",
    "\n",
    "* The hypothesis test results will be interpreted with a p-value instead of test statistics.\n",
    "\n"
   ]
  },
  {
   "cell_type": "markdown",
   "metadata": {},
   "source": [
    "# Import Libraries"
   ]
  },
  {
   "cell_type": "code",
   "execution_count": 202,
   "metadata": {},
   "outputs": [],
   "source": [
    "import pandas as pd \n",
    "import numpy as np\n",
    "import matplotlib.pyplot as plt\n",
    "import seaborn as sns\n",
    "import scipy.stats as stats\n",
    "from statsmodels.stats.proportion import proportions_ztest\n",
    "from statsmodels.stats.multicomp import pairwise_tukeyhsd"
   ]
  },
  {
   "cell_type": "code",
   "execution_count": 203,
   "metadata": {
    "collapsed": true
   },
   "outputs": [
    {
     "data": {
      "text/html": [
       "<div>\n",
       "<style scoped>\n",
       "    .dataframe tbody tr th:only-of-type {\n",
       "        vertical-align: middle;\n",
       "    }\n",
       "\n",
       "    .dataframe tbody tr th {\n",
       "        vertical-align: top;\n",
       "    }\n",
       "\n",
       "    .dataframe thead th {\n",
       "        text-align: right;\n",
       "    }\n",
       "</style>\n",
       "<table border=\"1\" class=\"dataframe\">\n",
       "  <thead>\n",
       "    <tr style=\"text-align: right;\">\n",
       "      <th></th>\n",
       "      <th>age</th>\n",
       "      <th>sex</th>\n",
       "      <th>bmi</th>\n",
       "      <th>children</th>\n",
       "      <th>smoker</th>\n",
       "      <th>region</th>\n",
       "      <th>charges</th>\n",
       "    </tr>\n",
       "  </thead>\n",
       "  <tbody>\n",
       "    <tr>\n",
       "      <th>0</th>\n",
       "      <td>19</td>\n",
       "      <td>female</td>\n",
       "      <td>27.900</td>\n",
       "      <td>0</td>\n",
       "      <td>yes</td>\n",
       "      <td>southwest</td>\n",
       "      <td>16884.92400</td>\n",
       "    </tr>\n",
       "    <tr>\n",
       "      <th>1</th>\n",
       "      <td>18</td>\n",
       "      <td>male</td>\n",
       "      <td>33.770</td>\n",
       "      <td>1</td>\n",
       "      <td>no</td>\n",
       "      <td>southeast</td>\n",
       "      <td>1725.55230</td>\n",
       "    </tr>\n",
       "    <tr>\n",
       "      <th>2</th>\n",
       "      <td>28</td>\n",
       "      <td>male</td>\n",
       "      <td>33.000</td>\n",
       "      <td>3</td>\n",
       "      <td>no</td>\n",
       "      <td>southeast</td>\n",
       "      <td>4449.46200</td>\n",
       "    </tr>\n",
       "    <tr>\n",
       "      <th>3</th>\n",
       "      <td>33</td>\n",
       "      <td>male</td>\n",
       "      <td>22.705</td>\n",
       "      <td>0</td>\n",
       "      <td>no</td>\n",
       "      <td>northwest</td>\n",
       "      <td>21984.47061</td>\n",
       "    </tr>\n",
       "    <tr>\n",
       "      <th>4</th>\n",
       "      <td>32</td>\n",
       "      <td>male</td>\n",
       "      <td>28.880</td>\n",
       "      <td>0</td>\n",
       "      <td>no</td>\n",
       "      <td>northwest</td>\n",
       "      <td>3866.85520</td>\n",
       "    </tr>\n",
       "  </tbody>\n",
       "</table>\n",
       "</div>"
      ],
      "text/plain": [
       "   age     sex     bmi  children smoker     region      charges\n",
       "0   19  female  27.900         0    yes  southwest  16884.92400\n",
       "1   18    male  33.770         1     no  southeast   1725.55230\n",
       "2   28    male  33.000         3     no  southeast   4449.46200\n",
       "3   33    male  22.705         0     no  northwest  21984.47061\n",
       "4   32    male  28.880         0     no  northwest   3866.85520"
      ]
     },
     "execution_count": 203,
     "metadata": {},
     "output_type": "execute_result"
    }
   ],
   "source": [
    "df = pd.read_csv('data/insurance.csv')\n",
    "df.head()"
   ]
  },
  {
   "cell_type": "markdown",
   "metadata": {},
   "source": [
    "## Are medical claims made by smokers greater than those who don't smoke ?"
   ]
  },
  {
   "cell_type": "code",
   "execution_count": 208,
   "metadata": {},
   "outputs": [],
   "source": [
    "# get charges of smoker claimant\n",
    "smoker_charges = df[df['smoker']=='yes']['charges']\n",
    "smoker_charges.reset_index(drop=True, inplace=True)\n",
    "\n",
    "# get charges of non-smoker claimant\n",
    "non_smoker_charges = df[df['smoker']=='no']['charges']\n",
    "non_smoker_charges.reset_index(drop=True, inplace=True)"
   ]
  },
  {
   "cell_type": "code",
   "execution_count": 209,
   "metadata": {
    "collapsed": true
   },
   "outputs": [
    {
     "name": "stderr",
     "output_type": "stream",
     "text": [
      "C:\\Users\\merve\\AppData\\Roaming\\Python\\Python37\\site-packages\\seaborn\\distributions.py:2551: FutureWarning: `distplot` is a deprecated function and will be removed in a future version. Please adapt your code to use either `displot` (a figure-level function with similar flexibility) or `histplot` (an axes-level function for histograms).\n",
      "  warnings.warn(msg, FutureWarning)\n"
     ]
    },
    {
     "data": {
      "image/png": "[encoded data removed]",
      "text/plain": [
       "<Figure size 432x288 with 1 Axes>"
      ]
     },
     "metadata": {
      "needs_background": "light"
     },
     "output_type": "display_data"
    }
   ],
   "source": [
    "plt.title('Distribution of Smoker Claimants Charges')\n",
    "sns.distplot(smoker_charges)\n",
    "plt.show()"
   ]
  },
  {
   "cell_type": "code",
   "execution_count": 210,
   "metadata": {
    "collapsed": true
   },
   "outputs": [
    {
     "name": "stderr",
     "output_type": "stream",
     "text": [
      "C:\\Users\\merve\\AppData\\Roaming\\Python\\Python37\\site-packages\\seaborn\\distributions.py:2551: FutureWarning: `distplot` is a deprecated function and will be removed in a future version. Please adapt your code to use either `displot` (a figure-level function with similar flexibility) or `histplot` (an axes-level function for histograms).\n",
      "  warnings.warn(msg, FutureWarning)\n"
     ]
    },
    {
     "data": {
      "image/png": "[encoded data removed]",
      "text/plain": [
       "<Figure size 432x288 with 1 Axes>"
      ]
     },
     "metadata": {
      "needs_background": "light"
     },
     "output_type": "display_data"
    }
   ],
   "source": [
    "plt.title('Distribution of Non-Smoker Claimants Charges')\n",
    "sns.distplot(non_smoker_charges)\n",
    "plt.show()"
   ]
  },
  {
   "cell_type": "markdown",
   "metadata": {},
   "source": [
    "### 1.State the null hypothesis and alternative hypothesis\n",
    "H0 :  μs  <= μns\n",
    "\n",
    "HA :  μs  >  μns\n",
    "\n",
    "alpha(α) = 0.05\n",
    "\n",
    "confidence_level = %95 (1-α)\n",
    " \n",
    "μs --> mean of the charge for smoker claimant in the dataset.\n",
    "\n",
    "μns --> mean of the charge for non-smoker claimant in the dataset."
   ]
  },
  {
   "cell_type": "markdown",
   "metadata": {},
   "source": [
    "### 2. Decide the type of hypothesis testing"
   ]
  },
  {
   "cell_type": "markdown",
   "metadata": {},
   "source": [
    "Since there are two independent groups and it is desired to compare the means of these two groups, **two-sample t test** will be used.\n",
    "\n",
    "To decide whether to use parametric or non-parametric tests, it will be examined whether the assumptions of the two-sample t-test are met."
   ]
  },
  {
   "cell_type": "markdown",
   "metadata": {},
   "source": [
    "### 3. Check the assumptions"
   ]
  },
  {
   "cell_type": "markdown",
   "metadata": {},
   "source": [
    "**Assumptions Of Two Sample T Test :**\n",
    "    * Continious data\n",
    "    * Samples data are independent\n",
    "    * The data follows the normal(Gaussion) distribution\n",
    "    * Samples variance equality \n",
    "    \n",
    "It is obvious that the first two assumptions are met. However, it needs to be clarified whether the assumptions of normality and equality of variance are met.\n",
    "\n",
    "To do that it will performed **'Shapiro-Wilks Test'** for normality and **'Levene's test'** for variance equality.\n"
   ]
  },
  {
   "cell_type": "markdown",
   "metadata": {},
   "source": [
    "**Shapiro-Wilks test for normality**\n",
    "\n",
    "H0: The data is normally distributed\n",
    "\n",
    "Ha: The data is not normally distributed\n",
    "\n",
    "α  = 0.01"
   ]
  },
  {
   "cell_type": "code",
   "execution_count": 213,
   "metadata": {},
   "outputs": [],
   "source": [
    "alpha = 0.01\n",
    "stat_smoker, p_val_smoker = stats.shapiro(smoker_charges)\n",
    "stat_non_smoker, p_val_non_smoker = stats.shapiro(non_smoker_charges)"
   ]
  },
  {
   "cell_type": "code",
   "execution_count": 217,
   "metadata": {},
   "outputs": [
    {
     "name": "stdout",
     "output_type": "stream",
     "text": [
      "Summary Of Shapiro-Wilks Normality Test \n",
      "\n",
      "Charges For Smokers\n",
      "p_value : 0.0000\n",
      "statistic : 0.9396\n",
      "Reject Null Hypothesis: the data is not normally distributed.\n",
      "\n",
      "Charges For Non-Smokers\n",
      "p_value : 0.0000\n",
      "statistic : 0.8729\n",
      "Reject Null Hypothesis: the data is not normally distributed.\n"
     ]
    }
   ],
   "source": [
    "print('Summary Of Shapiro-Wilks Normality Test \\n')\n",
    "\n",
    "print('Charges For Smokers')\n",
    "print('p_value : %.4f' %p_val_smoker)\n",
    "print('statistic : %.4f' %stat_smoker)\n",
    "if p_val_smoker < alpha :\n",
    "    print('Reject Null Hypothesis: the data is not normally distributed.')\n",
    "else:\n",
    "    print('Fail to Reject Null Hypothesis: the data normally distributed.')\n",
    "\n",
    "\n",
    "print('\\nCharges For Non-Smokers')\n",
    "print('p_value : %.4f' %p_val_non_smoker)\n",
    "print('statistic : %.4f' %stat_non_smoker)\n",
    "if p_val_non_smoker < alpha :\n",
    "    print('Reject Null Hypothesis: the data is not normally distributed.')\n",
    "else:\n",
    "    print('Fail to Reject Null Hypothesis: the data normally distributed.')\n",
    "\n"
   ]
  },
  {
   "cell_type": "markdown",
   "metadata": {},
   "source": [
    "**Levene's Test for variance equality'**\n",
    "\n",
    "As the data depart from normality Levene’s test is preferred before Bartlett’s, otherwise, it would use Bartlett's test.\n",
    "\n",
    "H0: The variances are equal across all samples.\n",
    "\n",
    "Ha: The variances are not equal for at least one pair.\n",
    "\n",
    "α  = 0.05"
   ]
  },
  {
   "cell_type": "code",
   "execution_count": 218,
   "metadata": {},
   "outputs": [
    {
     "name": "stdout",
     "output_type": "stream",
     "text": [
      "Summary Of Levene's Variance Equality Test\n",
      "\n",
      "statistic : 403.2640\n",
      "p_value : 0.00000000\n",
      "\n",
      "Reject Null Hypothesis: the variances are not equal for at least one pair.\n"
     ]
    }
   ],
   "source": [
    "alpha = 0.05\n",
    "stat, p_val = stats.levene(smoker_charges, non_smoker_charges, center='mean')\n",
    "\n",
    "print(\"Summary Of Levene's Variance Equality Test\\n\")\n",
    "\n",
    "print('statistic : %.4f' %stat)\n",
    "print('p_value : %.8f\\n' %p_val)\n",
    "\n",
    "\n",
    "if p_val < alpha:\n",
    "    print('Reject Null Hypothesis: the variances are not equal for at least one pair.' % p_val)\n",
    "else:\n",
    "    print('Fail to Reject Null Hypothesis: the variances are equal across all samples.' % p_val)"
   ]
  },
  {
   "cell_type": "markdown",
   "metadata": {},
   "source": [
    "It was determined that the sample data violated the assumption of the equality of variance. A non-parametric two-sample test should be performed instead of the parametric two-sample t-test. Therefore it will perform **Welch's t-test**."
   ]
  },
  {
   "cell_type": "markdown",
   "metadata": {},
   "source": [
    "### 4. Perform hyptohesis testing : Two Sample, Welch's T Test"
   ]
  },
  {
   "cell_type": "code",
   "execution_count": 219,
   "metadata": {},
   "outputs": [],
   "source": [
    "alpha = 0.05\n",
    "stat, p_val = stats.ttest_ind(smoker_charges, non_smoker_charges,alternative='greater', equal_var = False)"
   ]
  },
  {
   "cell_type": "markdown",
   "metadata": {},
   "source": [
    "### 5. Interpret results"
   ]
  },
  {
   "cell_type": "code",
   "execution_count": 220,
   "metadata": {},
   "outputs": [
    {
     "name": "stdout",
     "output_type": "stream",
     "text": [
      "Reject Null Hypothesis: claims by smokers are statistically greater than claims by non-smokers.\n",
      "p-value: 0.00000000\n"
     ]
    }
   ],
   "source": [
    "if p_val < alpha:\n",
    "    print('Reject Null Hypothesis: claims by smokers are statistically greater than claims by non-smokers.\\np-value: %.8f' % p_val)\n",
    "else:\n",
    "    print('Fail to Reject Null Hypothesis: claims by smokers are either statistically equal to or less than claims by non-smokers.\\np-value: %.4f' % p_val)"
   ]
  },
  {
   "cell_type": "markdown",
   "metadata": {},
   "source": [
    "## Is the BMI of females  lower than the BMI of males?\n"
   ]
  },
  {
   "cell_type": "code",
   "execution_count": 221,
   "metadata": {},
   "outputs": [],
   "source": [
    "# get BMI of males\n",
    "male_bmi = df[df['sex']=='male']['bmi']\n",
    "male_bmi.reset_index(drop=True, inplace=True)\n",
    "\n",
    "# get BMI of females\n",
    "female_bmi = df[df['sex']=='female']['bmi']\n",
    "female_bmi.reset_index(drop=True, inplace=True)"
   ]
  },
  {
   "cell_type": "markdown",
   "metadata": {},
   "source": [
    "### 1.State the null hypothesis and alternative hypothesis\n",
    "H0 :  μs  <= μns\n",
    "H 0 :  μm <= μf \n",
    "\n",
    "H a :  μm > μf \n",
    "\n",
    "α  = 0.05     (95% Confidence Interval)"
   ]
  },
  {
   "cell_type": "markdown",
   "metadata": {},
   "source": [
    "### 2. Decide the type of hypothesis testing"
   ]
  },
  {
   "cell_type": "markdown",
   "metadata": {},
   "source": [
    "Since there are two independent groups and it is desired to compare the means of these two groups, **two-sample t test** will be used.\n",
    "\n",
    "To decide whether to use parametric or non-parametric tests, it will be examined whether the assumptions of the two-sample t-test are met."
   ]
  },
  {
   "cell_type": "markdown",
   "metadata": {},
   "source": [
    "### 3. Check the assumptions"
   ]
  },
  {
   "cell_type": "markdown",
   "metadata": {},
   "source": [
    "**Assumptions Of Two-Sample T-Test :**\n",
    "    * Continious data\n",
    "    * Samples data are independent\n",
    "    * The data follows the normal(Gaussion) distribution\n",
    "    * Samples variance equality \n",
    "    \n",
    "It is obvious that the first two assumptions are met.(See the EDA notebook)"
   ]
  },
  {
   "cell_type": "markdown",
   "metadata": {},
   "source": [
    "**Histograms for normality**"
   ]
  },
  {
   "cell_type": "code",
   "execution_count": 224,
   "metadata": {},
   "outputs": [
    {
     "data": {
      "text/plain": [
       "<matplotlib.axes._subplots.AxesSubplot at 0x16ff6588d08>"
      ]
     },
     "execution_count": 224,
     "metadata": {},
     "output_type": "execute_result"
    },
    {
     "data": {
      "image/png": "[encoded data removed]",
      "text/plain": [
       "<Figure size 432x288 with 1 Axes>"
      ]
     },
     "metadata": {
      "needs_background": "light"
     },
     "output_type": "display_data"
    }
   ],
   "source": [
    "sns.histplot(data=male_bmi,kde=True,color='grey')"
   ]
  },
  {
   "cell_type": "code",
   "execution_count": 225,
   "metadata": {},
   "outputs": [
    {
     "data": {
      "text/plain": [
       "<matplotlib.axes._subplots.AxesSubplot at 0x16ff4b05348>"
      ]
     },
     "execution_count": 225,
     "metadata": {},
     "output_type": "execute_result"
    },
    {
     "data": {
      "image/png": "[encoded data removed]",
      "text/plain": [
       "<Figure size 432x288 with 1 Axes>"
      ]
     },
     "metadata": {
      "needs_background": "light"
     },
     "output_type": "display_data"
    }
   ],
   "source": [
    "sns.histplot(data=female_bmi,kde=True,color='grey')"
   ]
  },
  {
   "cell_type": "markdown",
   "metadata": {},
   "source": [
    "Also, from the above BMI histograms, it can be said that the data is normally distributed.\n",
    "\n",
    "However, it needs to be clarified whether the assumptions of equality of variance are met.\n",
    "doing this will perform **Bartlett's test** for equality of variance instead of the Levene test since the data are normally distributed.\n",
    "(detailed explanation to choose suitable test:\n",
    "https://www.marsja.se/levenes-bartletts-test-of-equality-homogeneity-of-variance-in-python/)"
   ]
  },
  {
   "cell_type": "markdown",
   "metadata": {},
   "source": [
    "**Bartlett's Test for variance equality**\n",
    "\n",
    "H0: The variances are equal across all samples.\n",
    "\n",
    "Ha: The variances are not equal for at least one pair.\n",
    "\n",
    "α  = 0.05"
   ]
  },
  {
   "cell_type": "code",
   "execution_count": 226,
   "metadata": {},
   "outputs": [
    {
     "name": "stdout",
     "output_type": "stream",
     "text": [
      "Summary Of Bartlett's Equality of Variance Test\n",
      "\n",
      "p-value: 0.6890\n",
      "Fail to Reject Null Hypothesis: the variances are equal across all samples.\n"
     ]
    }
   ],
   "source": [
    "alpha = 0.05\n",
    "stat, p_val = stats.bartlett(male_bmi, female_bmi)\n",
    "print(\"Summary Of Bartlett's Equality of Variance Test\")\n",
    "print('\\np-value: %.4f' % p_val)\n",
    "if p_val < alpha:\n",
    "    print('Reject Null Hypothesis: the variances are not equal for at least one pair.')\n",
    "else:\n",
    "    print('Fail to Reject Null Hypothesis: the variances are equal across all samples.')"
   ]
  },
  {
   "cell_type": "markdown",
   "metadata": {},
   "source": [
    "Since the normality and variance equality assumptions were met, **parametric two-sample t-test** can be perform."
   ]
  },
  {
   "cell_type": "markdown",
   "metadata": {},
   "source": [
    "### 4. Perform hypothesis testing : Two-Sample T-Test"
   ]
  },
  {
   "cell_type": "code",
   "execution_count": 229,
   "metadata": {},
   "outputs": [
    {
     "name": "stdout",
     "output_type": "stream",
     "text": [
      "Summary Of Student's Two-Sample T-Test\n",
      "\n",
      "p-value: 0.0450\n"
     ]
    }
   ],
   "source": [
    "#Student's Two-Sample t-test\n",
    "alpha= 0.05\n",
    "stat, p_val = stats.ttest_ind(male_bmi, female_bmi, alternative='greater',equal_var = True)\n",
    "\n",
    "print(\"Summary Of Student's Two-Sample T-Test\")\n",
    "print('\\np-value: %.4f' % p_val)\n"
   ]
  },
  {
   "cell_type": "markdown",
   "metadata": {},
   "source": [
    "### 5. Interpret results"
   ]
  },
  {
   "cell_type": "code",
   "execution_count": 230,
   "metadata": {},
   "outputs": [
    {
     "name": "stdout",
     "output_type": "stream",
     "text": [
      "Reject Null Hypothesis: the BMI of females is statistically different than the BMI of males.\n"
     ]
    }
   ],
   "source": [
    "if p_val <alpha:\n",
    "    print('Reject Null Hypothesis: the BMI of females is statistically different than the BMI of males.')\n",
    "else:\n",
    "    print('Fail to Reject Null Hypothesis: the BMI of females and the BMI of males are not statistically different.')"
   ]
  },
  {
   "cell_type": "markdown",
   "metadata": {},
   "source": [
    "# Is the proportion of smokers significantly different in different genders?"
   ]
  },
  {
   "cell_type": "markdown",
   "metadata": {},
   "source": [
    "It is desired to test how the proportions of smokers differ between the genders."
   ]
  },
  {
   "cell_type": "code",
   "execution_count": 232,
   "metadata": {},
   "outputs": [],
   "source": [
    "#calculate the proportions of smokers in genders\n",
    "number_of_male = df['sex'].value_counts()[0]\n",
    "number_of_female =df['sex'].value_counts()[1]\n",
    "\n",
    "male_smokers = df[df['sex']=='male']['smoker'].value_counts()[1] \n",
    "female_smokers = df[df['sex']=='female']['smoker'].value_counts()[1]\n",
    "\n",
    "\n",
    "pm = male_smokers/number_of_male\n",
    "pf = female_smokers/number_of_female\n"
   ]
  },
  {
   "cell_type": "code",
   "execution_count": 233,
   "metadata": {},
   "outputs": [
    {
     "name": "stdout",
     "output_type": "stream",
     "text": [
      " Proportion of smokers in males, females = 23.52%, 17.37% respectively.\n"
     ]
    }
   ],
   "source": [
    "print(f' Proportion of smokers in males, females = {round(pm,4)*100}%, {round(pf,4)*100}% respectively.')"
   ]
  },
  {
   "cell_type": "code",
   "execution_count": 234,
   "metadata": {},
   "outputs": [
    {
     "data": {
      "text/plain": [
       "<matplotlib.axes._subplots.AxesSubplot at 0x16ff4f9e648>"
      ]
     },
     "execution_count": 234,
     "metadata": {},
     "output_type": "execute_result"
    },
    {
     "data": {
      "image/png": "[encoded data removed]",
      "text/plain": [
       "<Figure size 432x288 with 1 Axes>"
      ]
     },
     "metadata": {
      "needs_background": "light"
     },
     "output_type": "display_data"
    }
   ],
   "source": [
    "sns.countplot(data=df, x='sex',hue = 'smoker',palette = 'viridis')"
   ]
  },
  {
   "cell_type": "markdown",
   "metadata": {},
   "source": [
    "### 1.State the null hypothesis and alternative hypothesis"
   ]
  },
  {
   "cell_type": "markdown",
   "metadata": {},
   "source": [
    "* H0 :  pm  =  pf \n",
    "\n",
    "* HA :  pm  !=  pf\n",
    "    \n",
    "*pm*  = Male Smokers / Total Male Claimants\n",
    "\n",
    "*pf*  = Female Smokers / Total Female Claimants"
   ]
  },
  {
   "cell_type": "markdown",
   "metadata": {},
   "source": [
    "### 2. Decide the type of hypothesis testing"
   ]
  },
  {
   "cell_type": "markdown",
   "metadata": {},
   "source": [
    "According to the graph above, the proportion of smokers of different genders is different. However, it is desired to test whether the differences are statistically significant. To do this, a proportional **two-sample z-test** will be performed."
   ]
  },
  {
   "cell_type": "markdown",
   "metadata": {},
   "source": [
    "### 3. Check the assumptions\n",
    "\n",
    "**Assumptions Of Two Sample T Test :**\n",
    "    * Samples data are independent\n",
    "    * Sufficent sample size (n>30)\n",
    " \n",
    "It is obvious that the two assumptions are met. It will bed used **parametric two-sample z-test**"
   ]
  },
  {
   "cell_type": "markdown",
   "metadata": {},
   "source": [
    "### 4. Perform hypothesis testing : Two Sample Z Test"
   ]
  },
  {
   "cell_type": "code",
   "execution_count": 239,
   "metadata": {},
   "outputs": [
    {
     "name": "stdout",
     "output_type": "stream",
     "text": [
      "Statistic: -2.7867402154855503\n",
      "p_value: 0.005324114164320532\n"
     ]
    }
   ],
   "source": [
    "# two sample z-test\n",
    "stat, p_val = proportions_ztest([female_smokers, male_smokers],[number_of_female,number_of_male])\n",
    "print(f'Statistic: {stat}\\np_value: {pval}')\n"
   ]
  },
  {
   "cell_type": "markdown",
   "metadata": {},
   "source": [
    "### 5. Interpret results"
   ]
  },
  {
   "cell_type": "code",
   "execution_count": 240,
   "metadata": {},
   "outputs": [
    {
     "name": "stdout",
     "output_type": "stream",
     "text": [
      "Reject Null Hypothesis: the proportion of smokers is significantly different in different genders\n"
     ]
    }
   ],
   "source": [
    "if p_val <alpha:\n",
    "    print('Reject Null Hypothesis: the proportion of smokers is significantly different in different genders')\n",
    "else:\n",
    "    print('Fail to Reject Null Hypothesis: The proportion of smokers is not significantly different in different genders')\n",
    "    "
   ]
  },
  {
   "cell_type": "markdown",
   "metadata": {},
   "source": [
    "# Is the distribution of BMI in different region are same ? "
   ]
  },
  {
   "cell_type": "code",
   "execution_count": 241,
   "metadata": {},
   "outputs": [
    {
     "data": {
      "text/plain": [
       "southeast    364\n",
       "northwest    325\n",
       "southwest    325\n",
       "northeast    324\n",
       "Name: region, dtype: int64"
      ]
     },
     "execution_count": 241,
     "metadata": {},
     "output_type": "execute_result"
    }
   ],
   "source": [
    "df['region'].value_counts()"
   ]
  },
  {
   "cell_type": "code",
   "execution_count": 246,
   "metadata": {},
   "outputs": [],
   "source": [
    "northwest = df[df['region']=='northwest']\n",
    "northeast = df[df['region']=='northeast']\n",
    "southwest = df[df['region']=='southwest']\n",
    "southeast = df[df['region']=='southeast']\n",
    "\n",
    "northwest,northeast,southwest,southeast"
   ]
  },
  {
   "cell_type": "markdown",
   "metadata": {},
   "source": [
    "### 1.State the null hypothesis and alternative hypothesis"
   ]
  },
  {
   "cell_type": "markdown",
   "metadata": {},
   "source": [
    "H0 : μse = μsw = μne = μnw\n",
    "\n",
    "HA: At least one of the means are different.\n",
    "    \n",
    "* μse = BMI means of claimants from  southeast region\n",
    "\n",
    "* μsw = BMI means of claimants from  southwest region\n",
    "\n",
    "* μne = BMI means of claimants from  northeast region\n",
    "\n",
    "* μnw = BMI means of claimants from  northwest region"
   ]
  },
  {
   "cell_type": "markdown",
   "metadata": {},
   "source": [
    "### 2. Decide the type of hypothesis testing"
   ]
  },
  {
   "cell_type": "markdown",
   "metadata": {},
   "source": [
    "A  **One-Way ANOVA Test**  will be used to test whether the mean BMI is the same across the four different regions.\n",
    "\n",
    "To decide whether to use a parametric or non-parametric test(**One-Way Kruskal–Wallis**), it will be examined whether the assumptions of the **One-Way ANOVA Test** are met. "
   ]
  },
  {
   "cell_type": "markdown",
   "metadata": {},
   "source": [
    "### 3. Check the assumptions\n",
    "\n",
    "**Assumptions of ANOVA**\n",
    "\n",
    "* All samples involved follow a normal distribution\n",
    "* All sample have the variance equality\n",
    "* The samples are randomly selected and independent of one another"
   ]
  },
  {
   "cell_type": "markdown",
   "metadata": {},
   "source": [
    "**Histogram for normality assumptions**"
   ]
  },
  {
   "cell_type": "code",
   "execution_count": 179,
   "metadata": {
    "collapsed": true
   },
   "outputs": [
    {
     "data": {
      "text/plain": [
       "<seaborn.axisgrid.FacetGrid at 0x16ff2fecec8>"
      ]
     },
     "execution_count": 179,
     "metadata": {},
     "output_type": "execute_result"
    },
    {
     "data": {
      "image/png": "[encoded data removed]",
      "text/plain": [
       "<Figure size 447.25x360 with 1 Axes>"
      ]
     },
     "metadata": {
      "needs_background": "light"
     },
     "output_type": "display_data"
    }
   ],
   "source": [
    "sns.displot(data=df,kde=True,x='bmi',hue='region')"
   ]
  },
  {
   "cell_type": "markdown",
   "metadata": {},
   "source": [
    "**Box  plot for variance equality assumptions**"
   ]
  },
  {
   "cell_type": "code",
   "execution_count": 253,
   "metadata": {},
   "outputs": [
    {
     "data": {
      "text/plain": [
       "<matplotlib.axes._subplots.AxesSubplot at 0x16ff07591c8>"
      ]
     },
     "execution_count": 253,
     "metadata": {},
     "output_type": "execute_result"
    },
    {
     "data": {
      "image/png": "[encoded data removed]",
      "text/plain": [
       "<Figure size 432x288 with 1 Axes>"
      ]
     },
     "metadata": {
      "needs_background": "light"
     },
     "output_type": "display_data"
    }
   ],
   "source": [
    "sns.boxplot(x = \"region\", y = \"charges\", data = df, width = 0.5)"
   ]
  },
  {
   "cell_type": "markdown",
   "metadata": {},
   "source": [
    "Visualization techniques were used to check whether the equality of variance and normal distribution assumptions were met.\n",
    "* According to the distribution graph, it can be said that all groups are normally distributed.\n",
    "* Based on the box plot, it can be said that all group variances are approximately equal\n",
    "\n",
    "So it can be performed a parametric One-Way ANOVA Test."
   ]
  },
  {
   "cell_type": "markdown",
   "metadata": {},
   "source": [
    "### 4. Perform hypothesis testing : One-Way ANOVA Test"
   ]
  },
  {
   "cell_type": "code",
   "execution_count": 254,
   "metadata": {},
   "outputs": [
    {
     "data": {
      "text/plain": [
       "F_onewayResult(statistic=39.49505720170282, pvalue=1.881838913929143e-24)"
      ]
     },
     "execution_count": 254,
     "metadata": {},
     "output_type": "execute_result"
    }
   ],
   "source": [
    "alpha= 0.05\n",
    "stats.f_oneway(northwest['bmi'],northeast['bmi'],southwest['bmi'],southeast['bmi'])"
   ]
  },
  {
   "cell_type": "markdown",
   "metadata": {},
   "source": [
    "### 5. Interpret results"
   ]
  },
  {
   "cell_type": "code",
   "execution_count": 255,
   "metadata": {},
   "outputs": [
    {
     "name": "stdout",
     "output_type": "stream",
     "text": [
      "0.0\n"
     ]
    }
   ],
   "source": [
    "p_val = float('{:.5f}'.format(stats.f_oneway(northwest['bmi'],northeast['bmi'],southwest['bmi'],southeast['bmi'])[1]))\n",
    "print(p_val)"
   ]
  },
  {
   "cell_type": "code",
   "execution_count": 257,
   "metadata": {},
   "outputs": [
    {
     "name": "stdout",
     "output_type": "stream",
     "text": [
      "Reject Null Hypothesis:  The mean BMI is significantly different in different regions. At least one of the means is different.\n"
     ]
    }
   ],
   "source": [
    "if p_val <alpha:\n",
    "    print('Reject Null Hypothesis:  The mean BMI is significantly different in different regions. At least one of the means is different.')\n",
    "else:\n",
    "    print('Fail to Reject Null Hypothesis: The mean  BMI is not significantly different in different regions.')\n",
    "    "
   ]
  },
  {
   "cell_type": "markdown",
   "metadata": {},
   "source": [
    "The null hypothesis was rejected, but it is not known which means differs. The Tukey-Kramer HSD test can be used to detect which mean is different."
   ]
  },
  {
   "cell_type": "code",
   "execution_count": 258,
   "metadata": {},
   "outputs": [
    {
     "name": "stdout",
     "output_type": "stream",
     "text": [
      "   Multiple Comparison of Means - Tukey HSD, FWER=0.05    \n",
      "==========================================================\n",
      "  group1    group2  meandiff p-adj   lower   upper  reject\n",
      "----------------------------------------------------------\n",
      "northeast northwest   0.0263    0.9 -1.1552  1.2078  False\n",
      "northeast southeast   4.1825  0.001   3.033   5.332   True\n",
      "northeast southwest   1.4231 0.0107  0.2416  2.6046   True\n",
      "northwest southeast   4.1562  0.001  3.0077  5.3047   True\n",
      "northwest southwest   1.3968 0.0127  0.2162  2.5774   True\n",
      "southeast southwest  -2.7594  0.001 -3.9079 -1.6108   True\n",
      "----------------------------------------------------------\n"
     ]
    }
   ],
   "source": [
    "# Calculate all pairwise comparisons with TukeyHSD confidence intervals\n",
    "print(pairwise_tukeyhsd(df['bmi'], df['region']))"
   ]
  },
  {
   "cell_type": "markdown",
   "metadata": {},
   "source": [
    "Based on pairwise Tukey-hsd test it's obvious that northest & northwest means are differ."
   ]
  },
  {
   "cell_type": "code",
   "execution_count": null,
   "metadata": {},
   "outputs": [],
   "source": []
  }
 ],
 "metadata": {
  "kernelspec": {
   "display_name": "Python 3",
   "language": "python",
   "name": "python3"
  },
  "language_info": {
   "codemirror_mode": {
    "name": "ipython",
    "version": 3
   },
   "file_extension": ".py",
   "mimetype": "text/x-python",
   "name": "python",
   "nbconvert_exporter": "python",
   "pygments_lexer": "ipython3",
   "version": "3.7.6"
  }
 },
 "nbformat": 4,
 "nbformat_minor": 4
}
