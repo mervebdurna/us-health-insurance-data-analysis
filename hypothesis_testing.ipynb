{
 "cells": [
  {
   "cell_type": "markdown",
   "metadata": {},
   "source": [
    "# Import Libraries"
   ]
  },
  {
   "cell_type": "code",
   "execution_count": 106,
   "metadata": {},
   "outputs": [],
   "source": [
    "import pandas as pd \n",
    "import numpy as np\n",
    "import matplotlib.pyplot as plt\n",
    "import seaborn as sns\n",
    "import scipy.stats as stats\n",
    "from statsmodels.stats.proportion import proportions_ztest"
   ]
  },
  {
   "cell_type": "code",
   "execution_count": 107,
   "metadata": {},
   "outputs": [
    {
     "data": {
      "text/html": [
       "<div>\n",
       "<style scoped>\n",
       "    .dataframe tbody tr th:only-of-type {\n",
       "        vertical-align: middle;\n",
       "    }\n",
       "\n",
       "    .dataframe tbody tr th {\n",
       "        vertical-align: top;\n",
       "    }\n",
       "\n",
       "    .dataframe thead th {\n",
       "        text-align: right;\n",
       "    }\n",
       "</style>\n",
       "<table border=\"1\" class=\"dataframe\">\n",
       "  <thead>\n",
       "    <tr style=\"text-align: right;\">\n",
       "      <th></th>\n",
       "      <th>age</th>\n",
       "      <th>sex</th>\n",
       "      <th>bmi</th>\n",
       "      <th>children</th>\n",
       "      <th>smoker</th>\n",
       "      <th>region</th>\n",
       "      <th>charges</th>\n",
       "    </tr>\n",
       "  </thead>\n",
       "  <tbody>\n",
       "    <tr>\n",
       "      <th>0</th>\n",
       "      <td>19</td>\n",
       "      <td>female</td>\n",
       "      <td>27.900</td>\n",
       "      <td>0</td>\n",
       "      <td>yes</td>\n",
       "      <td>southwest</td>\n",
       "      <td>16884.92400</td>\n",
       "    </tr>\n",
       "    <tr>\n",
       "      <th>1</th>\n",
       "      <td>18</td>\n",
       "      <td>male</td>\n",
       "      <td>33.770</td>\n",
       "      <td>1</td>\n",
       "      <td>no</td>\n",
       "      <td>southeast</td>\n",
       "      <td>1725.55230</td>\n",
       "    </tr>\n",
       "    <tr>\n",
       "      <th>2</th>\n",
       "      <td>28</td>\n",
       "      <td>male</td>\n",
       "      <td>33.000</td>\n",
       "      <td>3</td>\n",
       "      <td>no</td>\n",
       "      <td>southeast</td>\n",
       "      <td>4449.46200</td>\n",
       "    </tr>\n",
       "    <tr>\n",
       "      <th>3</th>\n",
       "      <td>33</td>\n",
       "      <td>male</td>\n",
       "      <td>22.705</td>\n",
       "      <td>0</td>\n",
       "      <td>no</td>\n",
       "      <td>northwest</td>\n",
       "      <td>21984.47061</td>\n",
       "    </tr>\n",
       "    <tr>\n",
       "      <th>4</th>\n",
       "      <td>32</td>\n",
       "      <td>male</td>\n",
       "      <td>28.880</td>\n",
       "      <td>0</td>\n",
       "      <td>no</td>\n",
       "      <td>northwest</td>\n",
       "      <td>3866.85520</td>\n",
       "    </tr>\n",
       "  </tbody>\n",
       "</table>\n",
       "</div>"
      ],
      "text/plain": [
       "   age     sex     bmi  children smoker     region      charges\n",
       "0   19  female  27.900         0    yes  southwest  16884.92400\n",
       "1   18    male  33.770         1     no  southeast   1725.55230\n",
       "2   28    male  33.000         3     no  southeast   4449.46200\n",
       "3   33    male  22.705         0     no  northwest  21984.47061\n",
       "4   32    male  28.880         0     no  northwest   3866.85520"
      ]
     },
     "execution_count": 107,
     "metadata": {},
     "output_type": "execute_result"
    }
   ],
   "source": [
    "df = pd.read_csv('data/insurance.csv')\n",
    "df.head()"
   ]
  },
  {
   "cell_type": "markdown",
   "metadata": {},
   "source": [
    "## Are medical claims made by smokers greater than those who don't smoke ?"
   ]
  },
  {
   "cell_type": "code",
   "execution_count": 108,
   "metadata": {},
   "outputs": [],
   "source": [
    "# get cahrges of smoker claimant\n",
    "smoker_charges = df[df['smoker']=='yes']['charges']\n",
    "smoker_charges.reset_index(drop=True, inplace=True)\n",
    "\n",
    "# get cahrges of non-smoker claimant\n",
    "non_smoker_charges = df[df['smoker']=='no']['charges']\n",
    "non_smoker_charges.reset_index(drop=True, inplace=True)"
   ]
  },
  {
   "cell_type": "code",
   "execution_count": 109,
   "metadata": {},
   "outputs": [
    {
     "name": "stderr",
     "output_type": "stream",
     "text": [
      "C:\\Users\\merve\\AppData\\Roaming\\Python\\Python37\\site-packages\\seaborn\\distributions.py:2551: FutureWarning: `distplot` is a deprecated function and will be removed in a future version. Please adapt your code to use either `displot` (a figure-level function with similar flexibility) or `histplot` (an axes-level function for histograms).\n",
      "  warnings.warn(msg, FutureWarning)\n"
     ]
    },
    {
     "data": {
      "image/png": "[encoded data removed]",
      "text/plain": [
       "<Figure size 432x288 with 1 Axes>"
      ]
     },
     "metadata": {
      "needs_background": "light"
     },
     "output_type": "display_data"
    }
   ],
   "source": [
    "plt.title('Distribution of Smoker Claimants Charges')\n",
    "sns.distplot(smoker_charges)\n",
    "plt.show()"
   ]
  },
  {
   "cell_type": "code",
   "execution_count": 110,
   "metadata": {},
   "outputs": [
    {
     "name": "stderr",
     "output_type": "stream",
     "text": [
      "C:\\Users\\merve\\AppData\\Roaming\\Python\\Python37\\site-packages\\seaborn\\distributions.py:2551: FutureWarning: `distplot` is a deprecated function and will be removed in a future version. Please adapt your code to use either `displot` (a figure-level function with similar flexibility) or `histplot` (an axes-level function for histograms).\n",
      "  warnings.warn(msg, FutureWarning)\n"
     ]
    },
    {
     "data": {
      "image/png": "[encoded data removed]",
      "text/plain": [
       "<Figure size 432x288 with 1 Axes>"
      ]
     },
     "metadata": {
      "needs_background": "light"
     },
     "output_type": "display_data"
    }
   ],
   "source": [
    "plt.title('Distribution of Non-Smoker Claimants Charges')\n",
    "sns.distplot(non_smoker_charges)\n",
    "plt.show()"
   ]
  },
  {
   "cell_type": "markdown",
   "metadata": {},
   "source": [
    "### 1.State the null hypothesis and alternative hypothesis\n",
    "H0 :  μs  <= μns\n",
    "HA :  μs  >  μns\n",
    "\n",
    "alpha(α) = 0.05\n",
    "\n",
    "confidence_level = %95 (1-α)\n",
    " \n",
    "μs --> mean of the charge for smoker claimant in the dataset.\n",
    "\n",
    "μns --> mean of the charge for non-smoker claimant in the dataset."
   ]
  },
  {
   "cell_type": "markdown",
   "metadata": {},
   "source": [
    "### 2. Decide the type of hypothesis testing"
   ]
  },
  {
   "cell_type": "markdown",
   "metadata": {},
   "source": [
    "As there are 2 independent group and as we would like to compare mean of those 2 groups we will going to use use \n",
    "**two-sample t test**.\n",
    "\n",
    "To decide whether to use parametric or non-parametric tests, let's examine whether the assumptions of the two-sample t-test are met."
   ]
  },
  {
   "cell_type": "markdown",
   "metadata": {},
   "source": [
    "### 3. Check the assumptions"
   ]
  },
  {
   "cell_type": "markdown",
   "metadata": {},
   "source": [
    "**Assumptions Of Two Sample T Test :**\n",
    "    * Continious data\n",
    "    * Samples data are independent\n",
    "    * The data follows the normal(Gaussion) distribution\n",
    "    * Samples variance equality \n",
    "    \n",
    "It is obvious that the first two assumptions are met. However, it needs to be clarified whether the assumptions of normality and equality of variance are met.\n",
    "\n",
    "To do that we will perform **'Shapiro-Wilks Test'** for normality and **'Levene's test'** for variance equality.\n"
   ]
  },
  {
   "cell_type": "markdown",
   "metadata": {},
   "source": [
    "**Shapiro-Wilks test for normality**\n",
    "\n",
    "H0: The data is normally distributed\n",
    "\n",
    "Ha: The data is not normally distributed\n",
    "\n",
    "α  = 0.01"
   ]
  },
  {
   "cell_type": "code",
   "execution_count": 111,
   "metadata": {},
   "outputs": [],
   "source": [
    "alpha = 0.01\n",
    "stat_smoker, p_val_smoker = stats.shapiro(smoker_charges)\n",
    "stat_non_smoker, p_val_non_smoker = stats.shapiro(non_smoker_charges)"
   ]
  },
  {
   "cell_type": "code",
   "execution_count": 112,
   "metadata": {},
   "outputs": [
    {
     "name": "stdout",
     "output_type": "stream",
     "text": [
      "Summary Of Shapiro-Wilks Normality Test \n",
      "\n",
      "Charges For Smokers\n",
      "p_value : 0.0000\n",
      "statistic : 0.9396\n",
      "Reject Null Hypothesis: the data is not normally distributed.\n",
      "\n",
      "Charges For Non-Smokers\n",
      "p_value : 0.8729\n",
      "statistic : 0.8729\n",
      "Reject Null Hypothesis: the data is not normally distributed.\n"
     ]
    }
   ],
   "source": [
    "print('Summary Of Shapiro-Wilks Normality Test \\n')\n",
    "\n",
    "print('Charges For Smokers')\n",
    "print('p_value : %.4f' %p_val_smoker)\n",
    "print('statistic : %.4f' %stat_smoker)\n",
    "if p_val_smoker < alpha :\n",
    "    print('Reject Null Hypothesis: the data is not normally distributed.')\n",
    "else:\n",
    "    print('Fail to Reject Null Hypothesis: the data normally distributed.')\n",
    "\n",
    "\n",
    "print('\\nCharges For Non-Smokers')\n",
    "print('p_value : %.4f' %stat_non_smoker)\n",
    "print('statistic : %.4f' %stat_non_smoker)\n",
    "if p_val_non_smoker < alpha :\n",
    "    print('Reject Null Hypothesis: the data is not normally distributed.')\n",
    "else:\n",
    "    print('Fail to Reject Null Hypothesis: the data normally distributed.')\n",
    "\n"
   ]
  },
  {
   "cell_type": "markdown",
   "metadata": {},
   "source": [
    "**Levene's Test for variance equality'**\n",
    "As our data is not following a normal distribution Levene’s test is preferred before Barlett’s.\n",
    "\n",
    "H0: The variances are equal across all samples.\n",
    "Ha: The variances are not equal for at least one pair.\n",
    "\n",
    "α  = 0.05\n",
    "\n",
    "!! use Levene's test for equality of variace because the data departs from normality, otherwise, we would have used Bartlett's test"
   ]
  },
  {
   "cell_type": "code",
   "execution_count": 113,
   "metadata": {},
   "outputs": [
    {
     "name": "stdout",
     "output_type": "stream",
     "text": [
      "Summary Of Levene's Variance Equality Test\n",
      "\n",
      "statistic : 403.2640\n",
      "p_value : 0.00000000\n",
      "\n",
      "Reject Null Hypothesis: the variances are not equal for at least one pair.\n"
     ]
    }
   ],
   "source": [
    "alpha = 0.05\n",
    "stat, p_val = stats.levene(smoker_charges, non_smoker_charges, center='mean')\n",
    "\n",
    "print(\"Summary Of Levene's Variance Equality Test\\n\")\n",
    "\n",
    "print('statistic : %.4f' %stat)\n",
    "print('p_value : %.8f\\n' %p_val)\n",
    "\n",
    "\n",
    "if p_val < alpha:\n",
    "    print('Reject Null Hypothesis: the variances are not equal for at least one pair.' % p_val)\n",
    "else:\n",
    "    print('Fail to Reject Null Hypothesis: the variances are equal across all samples.' % p_val)"
   ]
  },
  {
   "cell_type": "markdown",
   "metadata": {},
   "source": [
    " It has been found that the sample data violates the assumption of equality of variance. Non-Parametric 2 sample test must be performed instead of a two-sample t-test. That's why we will perform **Welch's t-test**."
   ]
  },
  {
   "cell_type": "markdown",
   "metadata": {},
   "source": [
    "### 4. Perform hpohesis testing : Two Sample, Welch's T Test"
   ]
  },
  {
   "cell_type": "code",
   "execution_count": 114,
   "metadata": {},
   "outputs": [],
   "source": [
    "alpha = 0.05\n",
    "stat, p_val = stats.ttest_ind(smoker_charges, non_smoker_charges,alternative='greater', equal_var = False)\n"
   ]
  },
  {
   "cell_type": "markdown",
   "metadata": {},
   "source": [
    "### 5. Interpret results"
   ]
  },
  {
   "cell_type": "code",
   "execution_count": 115,
   "metadata": {},
   "outputs": [
    {
     "name": "stdout",
     "output_type": "stream",
     "text": [
      "Reject Null Hypothesis: claims by smokers are statistically greater than claims by non-smokers.\n",
      "p-value: 0.00000000\n"
     ]
    }
   ],
   "source": [
    "if p_val < alpha:\n",
    "    print('Reject Null Hypothesis: claims by smokers are statistically greater than claims by non-smokers.\\np-value: %.8f' % p_val)\n",
    "else:\n",
    "    print('Fail to Reject Null Hypothesis: claims by smokers are either statistically equal to or less than claims by non-smokers.\\np-value: %.4f' % p_val)"
   ]
  },
  {
   "cell_type": "markdown",
   "metadata": {},
   "source": [
    "## Is the BMI of females  lower than the BMI of males?\n"
   ]
  },
  {
   "cell_type": "code",
   "execution_count": 116,
   "metadata": {},
   "outputs": [],
   "source": [
    "# get BNI of males\n",
    "male_bmi = df[df['sex']=='male']['bmi']\n",
    "male_bmi.reset_index(drop=True, inplace=True)\n",
    "\n",
    "# get cahrges of non-smoker claimant\n",
    "female_bmi = df[df['sex']=='female']['bmi']\n",
    "female_bmi.reset_index(drop=True, inplace=True)"
   ]
  },
  {
   "cell_type": "code",
   "execution_count": 117,
   "metadata": {},
   "outputs": [
    {
     "data": {
      "text/plain": [
       "<matplotlib.axes._subplots.AxesSubplot at 0x16ff29d3e48>"
      ]
     },
     "execution_count": 117,
     "metadata": {},
     "output_type": "execute_result"
    },
    {
     "data": {
      "image/png": "[encoded data removed]",
      "text/plain": [
       "<Figure size 432x288 with 1 Axes>"
      ]
     },
     "metadata": {
      "needs_background": "light"
     },
     "output_type": "display_data"
    }
   ],
   "source": [
    "sns.histplot(data=male_bmi,kde=True,color='grey')"
   ]
  },
  {
   "cell_type": "code",
   "execution_count": 118,
   "metadata": {},
   "outputs": [
    {
     "data": {
      "text/plain": [
       "<matplotlib.axes._subplots.AxesSubplot at 0x16ff28b9a48>"
      ]
     },
     "execution_count": 118,
     "metadata": {},
     "output_type": "execute_result"
    },
    {
     "data": {
      "image/png": "[encoded data removed]",
      "text/plain": [
       "<Figure size 432x288 with 1 Axes>"
      ]
     },
     "metadata": {
      "needs_background": "light"
     },
     "output_type": "display_data"
    }
   ],
   "source": [
    "sns.histplot(data=female_bmi,kde=True,color='grey')"
   ]
  },
  {
   "cell_type": "markdown",
   "metadata": {},
   "source": [
    "### 1.State the null hypothesis and alternative hypothesis\n",
    "H0 :  μs  <= μns\n",
    "H 0 :  μm <= μf \n",
    "\n",
    "H a :  μm > μf \n",
    "\n",
    "α  = 0.05     (95% Confidence Interval)"
   ]
  },
  {
   "cell_type": "markdown",
   "metadata": {},
   "source": [
    "### 2. Decide the type of hypothesis testing"
   ]
  },
  {
   "cell_type": "markdown",
   "metadata": {},
   "source": [
    "As there are 2 independent group and as we would like to compare mean of those 2 groups we will going to use use \n",
    "**two-sample t test**.\n",
    "\n",
    "To decide whether to use parametric or non-parametric tests, let's examine whether the assumptions of the two-sample t-test are met."
   ]
  },
  {
   "cell_type": "markdown",
   "metadata": {},
   "source": [
    "### 3. Check the assumptions"
   ]
  },
  {
   "cell_type": "markdown",
   "metadata": {},
   "source": [
    "**Assumptions Of Two Sample T Test :**\n",
    "    * Continious data\n",
    "    * Samples data are independent\n",
    "    * The data follows the normal(Gaussion) distribution\n",
    "    * Samples variance equality \n",
    "    \n",
    "It is obvious that the first two assumptions are met.(See the EDA notebook)\n",
    "\n",
    "And also from the above BMI hisgtorams we can that the data are normally distributed.\n",
    "\n",
    "However, it needs to be clarified whether the assumptions for equality of variance are met or not, \n",
    "to do that will perform **Bartlett’s** test instead of Levene’s for variance equality as the data are normally distributed.\n",
    "(detailed explanation for choosing suitable test :  \n",
    "https://www.marsja.se/levenes-bartletts-test-of-equality-homogeneity-of-variance-in-python/)\n"
   ]
  },
  {
   "cell_type": "markdown",
   "metadata": {},
   "source": [
    "**Bartlett's Test for variance equality**\n",
    "\n",
    "As the data is normally distributed you can use Bartlett’s test instead of Levene’s. (See the above histograms of female and male bmi\n",
    "\n",
    "https://www.marsja.se/levenes-bartletts-test-of-equality-homogeneity-of-variance-in-python/\n"
   ]
  },
  {
   "cell_type": "code",
   "execution_count": 156,
   "metadata": {},
   "outputs": [
    {
     "name": "stdout",
     "output_type": "stream",
     "text": [
      "Summary Of Bartlett's Equality of Variance Test\n",
      "\n",
      "p-value: 0.6890\n",
      "Fail to Reject Null Hypothesis: the variances are equal across all samples.\n"
     ]
    }
   ],
   "source": [
    "alpha = 0.05\n",
    "stat, p_val = stats.bartlett(male_bmi, female_bmi)\n",
    "print(\"Summary Of Bartlett's Equality of Variance Test\")\n",
    "print('\\np-value: %.4f' % p_val)\n",
    "if p_val < alpha:\n",
    "    print('Reject Null Hypothesis: the variances are not equal for at least one pair.')\n",
    "else:\n",
    "    print('Fail to Reject Null Hypothesis: the variances are equal across all samples.')"
   ]
  },
  {
   "cell_type": "markdown",
   "metadata": {},
   "source": [
    "Since the normality and variance equality assumptions were met we can perform **parametric two sample t-test** ."
   ]
  },
  {
   "cell_type": "markdown",
   "metadata": {},
   "source": [
    "### 4. Perform hypothesis testing : Two Sample T Test"
   ]
  },
  {
   "cell_type": "code",
   "execution_count": 157,
   "metadata": {},
   "outputs": [
    {
     "name": "stdout",
     "output_type": "stream",
     "text": [
      "Summary Of Student's Two-Sample t-test\n",
      "\n",
      "p-value: 0.0450\n"
     ]
    }
   ],
   "source": [
    "#Student's Two-Sample t-test\n",
    "alpha= 0.05\n",
    "stat, p_val = stats.ttest_ind(male_bmi, female_bmi, alternative='greater',equal_var = True)\n",
    "\n",
    "print(\"Summary Of Student's Two-Sample t-test\")\n",
    "print('\\np-value: %.4f' % p_val)\n"
   ]
  },
  {
   "cell_type": "markdown",
   "metadata": {},
   "source": [
    "### 5. Interpret results"
   ]
  },
  {
   "cell_type": "code",
   "execution_count": 158,
   "metadata": {},
   "outputs": [
    {
     "name": "stdout",
     "output_type": "stream",
     "text": [
      "Reject Null Hypothesis: the BMI of females is statistically different than the BMI of males.\n"
     ]
    }
   ],
   "source": [
    "if p_val <alpha:\n",
    "    print('Reject Null Hypothesis: the BMI of females is statistically different than the BMI of males.')\n",
    "else:\n",
    "    print('Fail to Reject Null Hypothesis: the BMI of females and the BMI of males are not statistically different.')"
   ]
  },
  {
   "cell_type": "markdown",
   "metadata": {},
   "source": [
    "# Is the proportion of smokers significantly different in different genders?"
   ]
  },
  {
   "cell_type": "markdown",
   "metadata": {},
   "source": [
    "We would like to see how the proportions of smokers changing between genders."
   ]
  },
  {
   "cell_type": "code",
   "execution_count": 159,
   "metadata": {},
   "outputs": [],
   "source": [
    "number_of_male = df['sex'].value_counts()[0]\n",
    "number_of_female =df['sex'].value_counts()[1]\n",
    "\n",
    "male_smokers = df[df['sex']=='male']['smoker'].value_counts()[1] \n",
    "female_smokers = df[df['sex']=='female']['smoker'].value_counts()[1]\n",
    "\n",
    "\n",
    "pm = male_smokers/number_of_male\n",
    "pf = female_smokers/number_of_female\n"
   ]
  },
  {
   "cell_type": "code",
   "execution_count": 160,
   "metadata": {},
   "outputs": [
    {
     "name": "stdout",
     "output_type": "stream",
     "text": [
      " Proportion of smokers in males, females = 23.52%, 17.37% respectively.\n"
     ]
    }
   ],
   "source": [
    "print(f' Proportion of smokers in males, females = {round(pm,4)*100}%, {round(pf,4)*100}% respectively.')"
   ]
  },
  {
   "cell_type": "code",
   "execution_count": 161,
   "metadata": {},
   "outputs": [
    {
     "data": {
      "text/plain": [
       "<matplotlib.axes._subplots.AxesSubplot at 0x16fef124c08>"
      ]
     },
     "execution_count": 161,
     "metadata": {},
     "output_type": "execute_result"
    },
    {
     "data": {
      "image/png": "[encoded data removed]",
      "text/plain": [
       "<Figure size 432x288 with 1 Axes>"
      ]
     },
     "metadata": {
      "needs_background": "light"
     },
     "output_type": "display_data"
    }
   ],
   "source": [
    "sns.countplot(data=df, x='sex',hue = 'smoker',palette = 'viridis')"
   ]
  },
  {
   "cell_type": "markdown",
   "metadata": {},
   "source": [
    "### 1.State the null hypothesis and alternative hypothesis"
   ]
  },
  {
   "cell_type": "markdown",
   "metadata": {},
   "source": [
    "* H0 :  pm  =  pf \n",
    "\n",
    "* HA :  pm  !=  pf\n",
    "    \n",
    "*pm*  = Male Smokers / Total Male Claimants\n",
    "\n",
    "*pf*  = Female Smokers / Total Female Claimants"
   ]
  },
  {
   "cell_type": "markdown",
   "metadata": {},
   "source": [
    "### 2. Decide the type of hypothesis testing"
   ]
  },
  {
   "cell_type": "markdown",
   "metadata": {},
   "source": [
    "As we saw in the above graphic the proporion of smokers in different gender are different. But we would like to test whether the differences are statistically significant or not. To do that we will perform proportion **two-sample z-test**."
   ]
  },
  {
   "cell_type": "markdown",
   "metadata": {},
   "source": [
    "### 3. Check the assumptions\n",
    "\n",
    "**Assumptions Of Two Sample T Test :**\n",
    "    * Samples data are independent\n",
    "    * Sufficent sample size (n>30)\n",
    " \n",
    "It is obvious that the two assumptions are met. We will use **parametric two-sample z-test**"
   ]
  },
  {
   "cell_type": "markdown",
   "metadata": {},
   "source": [
    "### 4. Perform hypothesis testing : Two Sample Z Test"
   ]
  },
  {
   "cell_type": "code",
   "execution_count": 162,
   "metadata": {},
   "outputs": [
    {
     "name": "stdout",
     "output_type": "stream",
     "text": [
      "Statistic: -2.7867402154855503\n",
      "p_value: 0.005324114164320532\n"
     ]
    }
   ],
   "source": [
    "# two samplez-test\n",
    "stat, pval = proportions_ztest([female_smokers, male_smokers],[number_of_female,number_of_male])\n",
    "print(f'Statistic: {stat}\\np_value: {pval}')\n"
   ]
  },
  {
   "cell_type": "markdown",
   "metadata": {},
   "source": [
    "### 5. Interpret results"
   ]
  },
  {
   "cell_type": "code",
   "execution_count": 163,
   "metadata": {},
   "outputs": [
    {
     "name": "stdout",
     "output_type": "stream",
     "text": [
      "With a p-value of 0.005324114164320532 the difference is significant. We reject the Null Hypothesis.\n"
     ]
    }
   ],
   "source": [
    "if pval < alpha:\n",
    "    print(f'With a p-value of {pval} the difference is significant. We reject the Null Hypothesis.')\n",
    "else:\n",
    "    print(f'With a p-value of {pval} the difference is not significant. We fail to reject the Null Hypothesis')"
   ]
  },
  {
   "cell_type": "code",
   "execution_count": 164,
   "metadata": {},
   "outputs": [
    {
     "name": "stdout",
     "output_type": "stream",
     "text": [
      "Reject Null Hypothesis: the proportion of smokers is significantly different in different genders\n"
     ]
    }
   ],
   "source": [
    "if p_val <alpha:\n",
    "    print('Reject Null Hypothesis: the proportion of smokers is significantly different in different genders')\n",
    "else:\n",
    "    print('Fail to Reject Null Hypothesis: The proportion of smokers is not significantly different in different genders')\n",
    "    "
   ]
  },
  {
   "cell_type": "markdown",
   "metadata": {},
   "source": [
    "# Is the distribution of charges in different region are same ? "
   ]
  },
  {
   "cell_type": "code",
   "execution_count": 166,
   "metadata": {},
   "outputs": [
    {
     "data": {
      "text/plain": [
       "southeast    364\n",
       "northwest    325\n",
       "southwest    325\n",
       "northeast    324\n",
       "Name: region, dtype: int64"
      ]
     },
     "execution_count": 166,
     "metadata": {},
     "output_type": "execute_result"
    }
   ],
   "source": [
    "df['region'].value_counts()"
   ]
  },
  {
   "cell_type": "markdown",
   "metadata": {},
   "source": [
    "### 1.State the null hypothesis and alternative hypothesis"
   ]
  },
  {
   "cell_type": "markdown",
   "metadata": {},
   "source": [
    "H0 : μse = μsw = μne = μnw\n",
    "\n",
    "HA: At least one of the means are different.\n",
    "    \n",
    "* μse = Charges of claimants from  southeast region\n",
    "\n",
    "* μsw = Charges of claimants from  southwest region\n",
    "\n",
    "* μne = Charges of claimants from  northeast region\n",
    "\n",
    "* μnw = Charges of claimants from  northwest region"
   ]
  },
  {
   "cell_type": "markdown",
   "metadata": {},
   "source": [
    "### 2. Decide the type of hypothesis testing"
   ]
  },
  {
   "cell_type": "markdown",
   "metadata": {},
   "source": [
    "Since we will test the equality of 4 population means equality we will use ANOVA test."
   ]
  },
  {
   "cell_type": "markdown",
   "metadata": {},
   "source": [
    "### 3. Check the assumptions\n",
    "\n",
    "**Assumptions of ANOVA**\n",
    "\n",
    "* All samples involved follow a normal distribution\n",
    "* All sample have the variance equality\n",
    "* The samples are randomly selected and independent of one another"
   ]
  },
  {
   "cell_type": "code",
   "execution_count": 178,
   "metadata": {
    "collapsed": true
   },
   "outputs": [
    {
     "data": {
      "text/plain": [
       "<seaborn.axisgrid.FacetGrid at 0x16ff14db708>"
      ]
     },
     "execution_count": 178,
     "metadata": {},
     "output_type": "execute_result"
    },
    {
     "data": {
      "image/png": "[encoded data removed]",
      "text/plain": [
       "<Figure size 447.25x360 with 1 Axes>"
      ]
     },
     "metadata": {
      "needs_background": "light"
     },
     "output_type": "display_data"
    }
   ],
   "source": [
    "sns.displot(data=df[df['smoker']=='yes'],kde=True,x='charges',hue='region')"
   ]
  },
  {
   "cell_type": "code",
   "execution_count": 170,
   "metadata": {
    "collapsed": true
   },
   "outputs": [
    {
     "data": {
      "text/plain": [
       "<matplotlib.axes._subplots.AxesSubplot at 0x16feeb15888>"
      ]
     },
     "execution_count": 170,
     "metadata": {},
     "output_type": "execute_result"
    },
    {
     "data": {
      "image/png": "[encoded data removed]",
      "text/plain": [
       "<Figure size 432x288 with 1 Axes>"
      ]
     },
     "metadata": {
      "needs_background": "light"
     },
     "output_type": "display_data"
    }
   ],
   "source": [
    "sns.boxplot(x = \"region\", y = \"charges\", data = df, width = 0.5)"
   ]
  },
  {
   "cell_type": "code",
   "execution_count": null,
   "metadata": {},
   "outputs": [],
   "source": []
  },
  {
   "cell_type": "code",
   "execution_count": null,
   "metadata": {},
   "outputs": [],
   "source": []
  },
  {
   "cell_type": "code",
   "execution_count": null,
   "metadata": {},
   "outputs": [],
   "source": [
    "### 4. Perform hypothesis testing : Two Sample Z Test"
   ]
  },
  {
   "cell_type": "code",
   "execution_count": null,
   "metadata": {},
   "outputs": [],
   "source": [
    "### 5. Interpret results"
   ]
  }
 ],
 "metadata": {
  "kernelspec": {
   "display_name": "Python 3",
   "language": "python",
   "name": "python3"
  },
  "language_info": {
   "codemirror_mode": {
    "name": "ipython",
    "version": 3
   },
   "file_extension": ".py",
   "mimetype": "text/x-python",
   "name": "python",
   "nbconvert_exporter": "python",
   "pygments_lexer": "ipython3",
   "version": "3.7.6"
  }
 },
 "nbformat": 4,
 "nbformat_minor": 4
}
